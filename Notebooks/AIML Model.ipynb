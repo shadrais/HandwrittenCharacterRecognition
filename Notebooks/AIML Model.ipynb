{
  "cells": [
    {
      "cell_type": "code",
      "execution_count": 3,
      "metadata": {
        "colab": {
          "base_uri": "https://localhost:8080/"
        },
        "id": "T70FUv22ZUgA",
        "outputId": "c67c4f63-b296-4307-e7be-815a4720c18c"
      },
      "outputs": [
        {
          "name": "stdout",
          "output_type": "stream",
          "text": [
            "Requirement already satisfied: tensorflow-addons in c:\\python39\\lib\\site-packages (0.15.0)\n",
            "Requirement already satisfied: typeguard>=2.7 in c:\\python39\\lib\\site-packages (from tensorflow-addons) (2.13.0)\n"
          ]
        },
        {
          "name": "stderr",
          "output_type": "stream",
          "text": [
            "WARNING: Ignoring invalid distribution -ip (c:\\python39\\lib\\site-packages)\n",
            "WARNING: Ignoring invalid distribution -ip (c:\\python39\\lib\\site-packages)\n",
            "WARNING: Ignoring invalid distribution -ip (c:\\python39\\lib\\site-packages)\n",
            "WARNING: Ignoring invalid distribution -ip (c:\\python39\\lib\\site-packages)\n",
            "WARNING: Ignoring invalid distribution -ip (c:\\python39\\lib\\site-packages)\n",
            "WARNING: Ignoring invalid distribution -ip (c:\\python39\\lib\\site-packages)\n"
          ]
        }
      ],
      "source": [
        "import tensorflow as tf\n",
        "from tensorflow import keras\n",
        "!pip install -U tensorflow-addons\n",
        "import tensorflow_addons as tfa\n",
        "\n",
        "import numpy as np\n",
        "import matplotlib.pyplot as plt\n",
        "import pandas as pd\n",
        "import string"
      ]
    },
    {
      "cell_type": "markdown",
      "metadata": {
        "id": "fSvZp2ZlZUgD"
      },
      "source": [
        "### Loading A_Z Handwritten dataset"
      ]
    },
    {
      "cell_type": "code",
      "execution_count": null,
      "metadata": {
        "colab": {
          "base_uri": "https://localhost:8080/"
        },
        "id": "bJy7YO1BQ-Kt",
        "outputId": "5b5bceff-e2f8-465a-f3b8-2de8920cb393"
      },
      "outputs": [
        {
          "name": "stdout",
          "output_type": "stream",
          "text": [
            "Mounted at /content/drive\n"
          ]
        }
      ],
      "source": [
        "# from google.colab import drive\n",
        "# drive.mount('/content/drive')"
      ]
    },
    {
      "cell_type": "code",
      "execution_count": null,
      "metadata": {
        "id": "wf56dXlvZUgD"
      },
      "outputs": [],
      "source": [
        "\n",
        "az_data = pd.read_csv('/content/drive/MyDrive/AIML Project/A_Z Handwritten Data.csv').astype('uint8')\n",
        "az_data.rename(columns={'0':'label'}, inplace=True)\n",
        "\n",
        "X_az = az_data.drop('label', axis=1).to_numpy()\n",
        "X_az = X_az.reshape(-1,28,28)\n",
        "y_az = az_data['label'].to_numpy()"
      ]
    },
    {
      "cell_type": "markdown",
      "metadata": {
        "id": "-EwvI7HqQ210"
      },
      "source": [
        "### Loading mnist dataset"
      ]
    },
    {
      "cell_type": "code",
      "execution_count": null,
      "metadata": {
        "colab": {
          "base_uri": "https://localhost:8080/"
        },
        "id": "fnKLTek8Q210",
        "outputId": "f8786355-801f-4c60-a5e9-346299036000"
      },
      "outputs": [
        {
          "name": "stdout",
          "output_type": "stream",
          "text": [
            "Downloading data from https://storage.googleapis.com/tensorflow/tf-keras-datasets/mnist.npz\n",
            "11493376/11490434 [==============================] - 0s 0us/step\n",
            "11501568/11490434 [==============================] - 0s 0us/step\n"
          ]
        }
      ],
      "source": [
        "(X_mnist_train, y_mnist_train), (X_mnist_test, y_mnist_test) = keras.datasets.mnist.load_data(path=\"mnist.npz\")\n",
        "\n",
        "X_mnist_full = np.concatenate((X_mnist_train, X_mnist_test))\n",
        "y_mnist_full = np.concatenate((y_mnist_train, y_mnist_test))"
      ]
    },
    {
      "cell_type": "markdown",
      "metadata": {
        "id": "dWAzS3AWQ211"
      },
      "source": [
        "### Visualization"
      ]
    },
    {
      "cell_type": "code",
      "execution_count": null,
      "metadata": {
        "colab": {
          "base_uri": "https://localhost:8080/",
          "height": 369
        },
        "id": "yMpJICv7Q211",
        "outputId": "02eb72c0-9d8d-42e5-fab3-30f653067ce9"
      },
      "outputs": [
        {
          "data": {
            "image/png": "[encoded data removed]",
            "text/plain": [
              "<Figure size 936x360 with 10 Axes>"
            ]
          },
          "metadata": {
            "needs_background": "light"
          },
          "output_type": "display_data"
        }
      ],
      "source": [
        "_, index = np.unique(y_mnist_full, return_index=True)\n",
        "fig, axs = plt.subplots(2, 5, figsize=(13,5))\n",
        "axs = axs.flatten()\n",
        "\n",
        "for i, ax in enumerate(axs):\n",
        "    ax.set_title(y_mnist_full[index[i]])\n",
        "    ax.imshow(X_mnist_full[index[i]], cmap='gray')\n",
        "\n",
        "plt.tight_layout()\n",
        "plt.show()"
      ]
    },
    {
      "cell_type": "code",
      "execution_count": null,
      "metadata": {
        "colab": {
          "base_uri": "https://localhost:8080/",
          "height": 798
        },
        "id": "gtpQ00PxQ212",
        "outputId": "86f8b162-14a1-4a48-9ab7-1460be335da8"
      },
      "outputs": [
        {
          "data": {
            "image/png": "[encoded data removed]",
            "text/plain": [
              "<Figure size 1080x792 with 24 Axes>"
            ]
          },
          "metadata": {
            "needs_background": "light"
          },
          "output_type": "display_data"
        }
      ],
      "source": [
        "_, index = np.unique(y_az, return_index=True)\n",
        "fig, axs = plt.subplots(4, 6, figsize=(15,11))\n",
        "axs = axs.flatten()\n",
        "\n",
        "for i, ax in enumerate(axs):\n",
        "    ax.set_title(string.ascii_uppercase[y_az[index[i]]])\n",
        "    ax.imshow(X_az[index[i]], cmap='gray')\n",
        "\n",
        "plt.tight_layout()\n",
        "plt.show()"
      ]
    },
    {
      "cell_type": "markdown",
      "metadata": {
        "id": "Jg03eM74ZUgH"
      },
      "source": [
        "### Full handwritten letters + numbers data\n",
        "\n",
        "y values: \n",
        "- 0-9 - numbers 0-9\n",
        "- 10-35 - letters A-Z"
      ]
    },
    {
      "cell_type": "code",
      "execution_count": null,
      "metadata": {
        "colab": {
          "base_uri": "https://localhost:8080/"
        },
        "id": "ASe7eyyIZUgI",
        "outputId": "02244649-59fa-4693-fbca-8fa6e3fd764a"
      },
      "outputs": [
        {
          "name": "stdout",
          "output_type": "stream",
          "text": [
            "[0 1 2 3 4 5 6 7 8 9]\n",
            "[10 11 12 13 14 15 16 17 18 19 20 21 22 23 24 25 26 27 28 29 30 31 32 33\n",
            " 34 35]\n"
          ]
        }
      ],
      "source": [
        "y_az_inc = y_az+10\n",
        "\n",
        "print(np.unique(y_mnist_full))\n",
        "print(np.unique(y_az_inc))"
      ]
    },
    {
      "cell_type": "code",
      "execution_count": null,
      "metadata": {
        "id": "2QOQ7BsKZUgI"
      },
      "outputs": [],
      "source": [
        "X_full = np.concatenate((X_mnist_full, X_az))\n",
        "y_full = np.concatenate((y_mnist_full, y_az_inc))"
      ]
    },
    {
      "cell_type": "code",
      "execution_count": null,
      "metadata": {
        "colab": {
          "base_uri": "https://localhost:8080/",
          "height": 267
        },
        "id": "Q_2bgxSGZUgJ",
        "outputId": "d2ec3f18-8e3c-4ed3-ebab-d258cb082a73"
      },
      "outputs": [
        {
          "data": {
            "image/png": "[encoded data removed]",
            "text/plain": [
              "<Figure size 432x288 with 1 Axes>"
            ]
          },
          "metadata": {
            "needs_background": "light"
          },
          "output_type": "display_data"
        }
      ],
      "source": [
        "_, frequency_count = np.unique(y_full, return_counts=True)\n",
        "label = [\"%d\" %i for i in range(0,10)] + list(string.ascii_uppercase)\n",
        "plt.bar(label, frequency_count)\n",
        "plt.show()"
      ]
    },
    {
      "cell_type": "markdown",
      "metadata": {
        "id": "CcGkqjGZZUgJ"
      },
      "source": [
        "### Model training"
      ]
    },
    {
      "cell_type": "code",
      "execution_count": null,
      "metadata": {
        "id": "TGNMpbf7Q215"
      },
      "outputs": [],
      "source": [
        "class a_to_z():\n",
        "    AUTO = tf.data.experimental.AUTOTUNE\n",
        "    labels_len = len(np.unique(y_full))\n",
        "    random_seed = 42\n",
        "    image_size = 28\n",
        "    folds = 5\n",
        "\n",
        "    batch_size = 32\n",
        "    lr = 1e-5\n",
        "    epochs = 1"
      ]
    },
    {
      "cell_type": "code",
      "execution_count": null,
      "metadata": {
        "id": "U7SEhUq5Q216"
      },
      "outputs": [],
      "source": [
        "def preprocess(image, label):\n",
        "    label = tf.one_hot(label, a_to_z.labels_len)\n",
        "    label = tf.cast(label, tf.uint8)\n",
        "\n",
        "    image = tf.cast(image, tf.float32) / 255.\n",
        "    image = tf.reshape(image, [-1, a_to_z.image_size, a_to_z.image_size, 1])\n",
        "\n",
        "    return image.numpy(), label.numpy()\n",
        "\n",
        "X_pp, y_pp = preprocess(X_full, y_full)"
      ]
    },
    {
      "cell_type": "code",
      "execution_count": null,
      "metadata": {
        "id": "dq5CgODmQ216"
      },
      "outputs": [],
      "source": [
        "def augmentation(image, label):\n",
        "    # rotation -40 to 40 deg counterclockwise\n",
        "    k_rad = tf.random.uniform([1], minval=-0.6981, maxval=0.6981, dtype=tf.dtypes.float32)\n",
        "    image = tfa.image.rotate(image, k_rad)\n",
        "\n",
        "    image = tf.clip_by_value(image, 0.0, 1.0)\n",
        "    image = tf.reshape(image, [a_to_z.image_size, a_to_z.image_size, 1])\n",
        "    return image, label\n",
        "\n",
        "def get_dataset(X, y, shuffle=False, augment=False):\n",
        "    dataset = tf.data.Dataset.from_tensor_slices((X,y))\n",
        "    if shuffle:\n",
        "        dataset = dataset.shuffle(len(X))\n",
        "    # dataset = dataset.map(parse_function, num_parallel_calls=AUTO)\n",
        "    if augment:\n",
        "        dataset = dataset.map(augmentation, num_parallel_calls=a_to_z.AUTO)\n",
        "    dataset = dataset.batch(a_to_z.batch_size)\n",
        "    return dataset.prefetch(1)"
      ]
    },
    {
      "cell_type": "code",
      "execution_count": null,
      "metadata": {
        "colab": {
          "base_uri": "https://localhost:8080/",
          "height": 333
        },
        "id": "ZayLXARyQ217",
        "outputId": "da8e3779-e94a-403e-c06e-0bc8c83c1fdc"
      },
      "outputs": [
        {
          "data": {
            "image/png": "[encoded data removed]",
            "text/plain": [
              "<Figure size 1080x1080 with 5 Axes>"
            ]
          },
          "metadata": {
            "needs_background": "light"
          },
          "output_type": "display_data"
        },
        {
          "data": {
            "image/png": "[encoded data removed]",
            "text/plain": [
              "<Figure size 1080x1080 with 5 Axes>"
            ]
          },
          "metadata": {
            "needs_background": "light"
          },
          "output_type": "display_data"
        }
      ],
      "source": [
        "def visualize_5_imgs(dataset):\n",
        "    plt.figure(figsize=[15, 15])\n",
        "    for i, sample in enumerate(dataset.unbatch().take(5).as_numpy_iterator()):\n",
        "        plt.subplot(1, 5, i + 1)\n",
        "        plt.imshow(sample[0].reshape((a_to_z.image_size, a_to_z.image_size)))\n",
        "        # plt.title(sample[1])\n",
        "        plt.axis('off')\n",
        "    plt.show()\n",
        "\n",
        "ds = get_dataset(X_pp, y_pp)\n",
        "visualize_5_imgs(ds)\n",
        "ds_aug = get_dataset(X_pp, y_pp, augment=True)\n",
        "visualize_5_imgs(ds_aug)"
      ]
    },
    {
      "cell_type": "code",
      "execution_count": null,
      "metadata": {
        "id": "_A9wBXgBZUgL"
      },
      "outputs": [],
      "source": [
        "def get_model():\n",
        "    model = keras.models.Sequential([\n",
        "        keras.layers.Conv2D(64, 7, activation='relu', padding='same', input_shape=(a_to_z.image_size, a_to_z.image_size, 1)),\n",
        "        keras.layers.MaxPool2D(2),\n",
        "        keras.layers.Conv2D(128, 3, activation='relu', padding='same'),\n",
        "        keras.layers.Conv2D(128, 3, activation='relu', padding='same'),\n",
        "        keras.layers.MaxPool2D(2),\n",
        "        keras.layers.Conv2D(128, 3, activation='relu', padding='same'),\n",
        "        keras.layers.Conv2D(128, 3, activation='relu', padding='same'),\n",
        "        keras.layers.MaxPool2D(2),\n",
        "        keras.layers.Flatten(),\n",
        "        keras.layers.Dense(128, activation='relu'),\n",
        "        keras.layers.Dropout(0.5),\n",
        "        keras.layers.Dense(a_to_z.labels_len, activation='softmax')\n",
        "    ])\n",
        "    \n",
        "    model.compile(loss='categorical_crossentropy', optimizer='adam', metrics=['accuracy'])\n",
        "\n",
        "    return model"
      ]
    },
    {
      "cell_type": "code",
      "execution_count": null,
      "metadata": {
        "colab": {
          "base_uri": "https://localhost:8080/"
        },
        "id": "Z7Kxy5cHQ217",
        "outputId": "2386a312-864b-4408-fa0a-3e6f4d331f56"
      },
      "outputs": [
        {
          "name": "stdout",
          "output_type": "stream",
          "text": [
            "11062/11062 [==============================] - 236s 19ms/step - loss: 0.4225 - accuracy: 0.8819 - val_loss: 0.1429 - val_accuracy: 0.9600 - lr: 0.0010\n",
            "11062/11062 [==============================] - 208s 19ms/step - loss: 0.4428 - accuracy: 0.8753 - val_loss: 0.1443 - val_accuracy: 0.9600 - lr: 0.0010\n",
            "11062/11062 [==============================] - 209s 19ms/step - loss: 0.4226 - accuracy: 0.8815 - val_loss: 0.1416 - val_accuracy: 0.9579 - lr: 0.0010\n",
            "11062/11062 [==============================] - 205s 18ms/step - loss: 0.4219 - accuracy: 0.8813 - val_loss: 0.1502 - val_accuracy: 0.9563 - lr: 0.0010\n",
            "11062/11062 [==============================] - 209s 19ms/step - loss: 0.4267 - accuracy: 0.8808 - val_loss: 0.1438 - val_accuracy: 0.9566 - lr: 0.0010\n",
            "INFO:tensorflow:Assets written to: /content/drive/MyDrive/AIML Project/training_save/assets\n"
          ]
        }
      ],
      "source": [
        "from sklearn.model_selection import KFold\n",
        "\n",
        "callbacks = [\n",
        "    keras.callbacks.EarlyStopping(patience=5),\n",
        "    tf.keras.callbacks.ReduceLROnPlateau(monitor='val_accuracy', mode='max', verbose=1)\n",
        "]\n",
        "\n",
        "kfold = KFold(n_splits=a_to_z.folds, shuffle=True, random_state=a_to_z.random_seed)\n",
        "xd = 0\n",
        "for i, (train_index, val_index) in enumerate(kfold.split(X_pp, y_pp)):\n",
        "    X_train, y_train = X_pp[train_index], y_pp[train_index]\n",
        "    X_val, y_val = X_pp[list(val_index)], y_pp[list(val_index)]\n",
        "    \n",
        "    ds_train = get_dataset(X_train, y_train, shuffle=True, augment=True)\n",
        "    ds_val = get_dataset(X_val, y_val)\n",
        "\n",
        "    model = get_model()\n",
        "    model.fit(ds_train, validation_data=ds_val, callbacks=callbacks, epochs=a_to_z.epochs)\n",
        "  \n",
        "model.save('/content/drive/MyDrive/AIML Project/training_save')"
      ]
    },
    {
      "cell_type": "code",
      "execution_count": null,
      "metadata": {
        "id": "KrH9P8d6e2PY"
      },
      "outputs": [],
      "source": [
        "new_model = tf.keras.models.load_model(\"/content/drive/MyDrive/AIML Project/training_save/\")"
      ]
    },
    {
      "cell_type": "code",
      "execution_count": null,
      "metadata": {
        "colab": {
          "base_uri": "https://localhost:8080/"
        },
        "id": "gybanBRvfUUS",
        "outputId": "618d9429-6449-4fe0-aadf-3aa513d2bc9d"
      },
      "outputs": [
        {
          "name": "stdout",
          "output_type": "stream",
          "text": [
            "Model: \"sequential_4\"\n",
            "_________________________________________________________________\n",
            " Layer (type)                Output Shape              Param #   \n",
            "=================================================================\n",
            " conv2d_20 (Conv2D)          (None, 28, 28, 64)        3200      \n",
            "                                                                 \n",
            " max_pooling2d_12 (MaxPoolin  (None, 14, 14, 64)       0         \n",
            " g2D)                                                            \n",
            "                                                                 \n",
            " conv2d_21 (Conv2D)          (None, 14, 14, 128)       73856     \n",
            "                                                                 \n",
            " conv2d_22 (Conv2D)          (None, 14, 14, 128)       147584    \n",
            "                                                                 \n",
            " max_pooling2d_13 (MaxPoolin  (None, 7, 7, 128)        0         \n",
            " g2D)                                                            \n",
            "                                                                 \n",
            " conv2d_23 (Conv2D)          (None, 7, 7, 128)         147584    \n",
            "                                                                 \n",
            " conv2d_24 (Conv2D)          (None, 7, 7, 128)         147584    \n",
            "                                                                 \n",
            " max_pooling2d_14 (MaxPoolin  (None, 3, 3, 128)        0         \n",
            " g2D)                                                            \n",
            "                                                                 \n",
            " flatten_4 (Flatten)         (None, 1152)              0         \n",
            "                                                                 \n",
            " dense_8 (Dense)             (None, 128)               147584    \n",
            "                                                                 \n",
            " dropout_4 (Dropout)         (None, 128)               0         \n",
            "                                                                 \n",
            " dense_9 (Dense)             (None, 36)                4644      \n",
            "                                                                 \n",
            "=================================================================\n",
            "Total params: 672,036\n",
            "Trainable params: 672,036\n",
            "Non-trainable params: 0\n",
            "_________________________________________________________________\n"
          ]
        }
      ],
      "source": [
        "new_model.summary()"
      ]
    },
    {
      "cell_type": "code",
      "execution_count": null,
      "metadata": {
        "id": "rULvZptFfYFX"
      },
      "outputs": [],
      "source": []
    }
  ],
  "metadata": {
    "accelerator": "GPU",
    "colab": {
      "collapsed_sections": [],
      "name": "training.ipynb",
      "provenance": []
    },
    "environment": {
      "name": "pytorch-gpu.1-4.m55",
      "type": "gcloud",
      "uri": "gcr.io/deeplearning-platform-release/pytorch-gpu.1-4:m55"
    },
    "kernelspec": {
      "display_name": "Python 3.7.10 64-bit",
      "name": "python3"
    },
    "language_info": {
      "codemirror_mode": {
        "name": "ipython",
        "version": 3
      },
      "file_extension": ".py",
      "mimetype": "text/x-python",
      "name": "python",
      "nbconvert_exporter": "python",
      "pygments_lexer": "ipython3",
      "version": "3.9.6"
    }
  },
  "nbformat": 4,
  "nbformat_minor": 0
}
